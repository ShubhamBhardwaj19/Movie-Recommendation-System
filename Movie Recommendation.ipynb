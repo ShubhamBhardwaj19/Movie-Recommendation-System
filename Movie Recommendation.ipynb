{
 "cells": [
  {
   "cell_type": "code",
   "execution_count": 1,
   "metadata": {},
   "outputs": [],
   "source": [
    "import pandas as pd"
   ]
  },
  {
   "cell_type": "code",
   "execution_count": 2,
   "metadata": {},
   "outputs": [],
   "source": [
    "dataset = {\n",
    "    \"action\" : [\"matrix\",\"batman\",\"superman\",\"dabang\",\"avengers\",\"thor\",\"hulk\",\"krrish\",\"ironman\"],\n",
    "    \"comedy\" : [\"the mask\",\"dhamaal\",\"bala\",\"housefull\",\"golmaal\",\"hera pheri\",\"golmaal 2\",\"dhamaal 2\",\"hera pheri 2\"],\n",
    "    \"drama\" : [\"dabang\",\"krrish\",\"hera pheri\",\"bala\",\"kahani\",\"batla house\",\"kgf\",\"zero\",\"sultan\"],\n",
    "    \"thriller\" : [\"kahani\",\"kgf\",\"batla house\",\"madras cafe\",\"uri\",\"raw\",\"lucy\",\"the ring\",\"oculus\"],\n",
    "    \"horror\" : [\"oculus\",\"the ring\",\"it\",\"the ring 2\",\"evil dead\",\"conjuring\",\"conjuring 2\",\"bhootnath\",\"aatma\"]\n",
    "}\n",
    "\n",
    "df = pd.DataFrame(dataset)"
   ]
  },
  {
   "cell_type": "code",
   "execution_count": 3,
   "metadata": {},
   "outputs": [
    {
     "data": {
      "text/html": [
       "<div>\n",
       "<style scoped>\n",
       "    .dataframe tbody tr th:only-of-type {\n",
       "        vertical-align: middle;\n",
       "    }\n",
       "\n",
       "    .dataframe tbody tr th {\n",
       "        vertical-align: top;\n",
       "    }\n",
       "\n",
       "    .dataframe thead th {\n",
       "        text-align: right;\n",
       "    }\n",
       "</style>\n",
       "<table border=\"1\" class=\"dataframe\">\n",
       "  <thead>\n",
       "    <tr style=\"text-align: right;\">\n",
       "      <th></th>\n",
       "      <th>action</th>\n",
       "      <th>comedy</th>\n",
       "      <th>drama</th>\n",
       "      <th>thriller</th>\n",
       "      <th>horror</th>\n",
       "    </tr>\n",
       "  </thead>\n",
       "  <tbody>\n",
       "    <tr>\n",
       "      <th>0</th>\n",
       "      <td>matrix</td>\n",
       "      <td>the mask</td>\n",
       "      <td>dabang</td>\n",
       "      <td>kahani</td>\n",
       "      <td>oculus</td>\n",
       "    </tr>\n",
       "    <tr>\n",
       "      <th>1</th>\n",
       "      <td>batman</td>\n",
       "      <td>dhamaal</td>\n",
       "      <td>krrish</td>\n",
       "      <td>kgf</td>\n",
       "      <td>the ring</td>\n",
       "    </tr>\n",
       "    <tr>\n",
       "      <th>2</th>\n",
       "      <td>superman</td>\n",
       "      <td>bala</td>\n",
       "      <td>hera pheri</td>\n",
       "      <td>batla house</td>\n",
       "      <td>it</td>\n",
       "    </tr>\n",
       "    <tr>\n",
       "      <th>3</th>\n",
       "      <td>dabang</td>\n",
       "      <td>housefull</td>\n",
       "      <td>bala</td>\n",
       "      <td>madras cafe</td>\n",
       "      <td>the ring 2</td>\n",
       "    </tr>\n",
       "    <tr>\n",
       "      <th>4</th>\n",
       "      <td>avengers</td>\n",
       "      <td>golmaal</td>\n",
       "      <td>kahani</td>\n",
       "      <td>uri</td>\n",
       "      <td>evil dead</td>\n",
       "    </tr>\n",
       "    <tr>\n",
       "      <th>5</th>\n",
       "      <td>thor</td>\n",
       "      <td>hera pheri</td>\n",
       "      <td>batla house</td>\n",
       "      <td>raw</td>\n",
       "      <td>conjuring</td>\n",
       "    </tr>\n",
       "    <tr>\n",
       "      <th>6</th>\n",
       "      <td>hulk</td>\n",
       "      <td>golmaal 2</td>\n",
       "      <td>kgf</td>\n",
       "      <td>lucy</td>\n",
       "      <td>conjuring 2</td>\n",
       "    </tr>\n",
       "    <tr>\n",
       "      <th>7</th>\n",
       "      <td>krrish</td>\n",
       "      <td>dhamaal 2</td>\n",
       "      <td>zero</td>\n",
       "      <td>the ring</td>\n",
       "      <td>bhootnath</td>\n",
       "    </tr>\n",
       "    <tr>\n",
       "      <th>8</th>\n",
       "      <td>ironman</td>\n",
       "      <td>hera pheri 2</td>\n",
       "      <td>sultan</td>\n",
       "      <td>oculus</td>\n",
       "      <td>aatma</td>\n",
       "    </tr>\n",
       "  </tbody>\n",
       "</table>\n",
       "</div>"
      ],
      "text/plain": [
       "     action        comedy        drama     thriller       horror\n",
       "0    matrix      the mask       dabang       kahani       oculus\n",
       "1    batman       dhamaal       krrish          kgf     the ring\n",
       "2  superman          bala   hera pheri  batla house           it\n",
       "3    dabang     housefull         bala  madras cafe   the ring 2\n",
       "4  avengers       golmaal       kahani          uri    evil dead\n",
       "5      thor    hera pheri  batla house          raw    conjuring\n",
       "6      hulk     golmaal 2          kgf         lucy  conjuring 2\n",
       "7    krrish     dhamaal 2         zero     the ring    bhootnath\n",
       "8   ironman  hera pheri 2       sultan       oculus        aatma"
      ]
     },
     "execution_count": 3,
     "metadata": {},
     "output_type": "execute_result"
    }
   ],
   "source": [
    "df"
   ]
  },
  {
   "cell_type": "code",
   "execution_count": 33,
   "metadata": {},
   "outputs": [],
   "source": [
    "user = {\"it\",\"dhamaal\",\"sultan\",\"aatma\",\"conjuring\",\"bala\",\"ironman\",\"thor\"}"
   ]
  },
  {
   "cell_type": "code",
   "execution_count": 34,
   "metadata": {},
   "outputs": [],
   "source": [
    "categories = {}\n",
    "for cat in df.columns:\n",
    "    categories[cat] = 0.0"
   ]
  },
  {
   "cell_type": "code",
   "execution_count": 35,
   "metadata": {},
   "outputs": [
    {
     "data": {
      "text/plain": [
       "{'action': 0.0, 'comedy': 0.0, 'drama': 0.0, 'thriller': 0.0, 'horror': 0.0}"
      ]
     },
     "execution_count": 35,
     "metadata": {},
     "output_type": "execute_result"
    }
   ],
   "source": [
    "categories"
   ]
  },
  {
   "cell_type": "code",
   "execution_count": 36,
   "metadata": {},
   "outputs": [],
   "source": [
    "for cat in df.columns:\n",
    "    intersection = set(df[cat]).intersection(user)\n",
    "    union = set(df[cat]).union(user)\n",
    "    score = len(intersection) / len(union)\n",
    "    categories[cat] = score"
   ]
  },
  {
   "cell_type": "code",
   "execution_count": 37,
   "metadata": {},
   "outputs": [
    {
     "data": {
      "text/plain": [
       "{'action': 0.13333333333333333,\n",
       " 'comedy': 0.13333333333333333,\n",
       " 'drama': 0.13333333333333333,\n",
       " 'thriller': 0.0,\n",
       " 'horror': 0.21428571428571427}"
      ]
     },
     "execution_count": 37,
     "metadata": {},
     "output_type": "execute_result"
    }
   ],
   "source": [
    "categories"
   ]
  },
  {
   "cell_type": "code",
   "execution_count": 38,
   "metadata": {},
   "outputs": [
    {
     "data": {
      "text/plain": [
       "dict_items([('action', 0.13333333333333333), ('comedy', 0.13333333333333333), ('drama', 0.13333333333333333), ('thriller', 0.0), ('horror', 0.21428571428571427)])"
      ]
     },
     "execution_count": 38,
     "metadata": {},
     "output_type": "execute_result"
    }
   ],
   "source": [
    "categories.items()"
   ]
  },
  {
   "cell_type": "code",
   "execution_count": 39,
   "metadata": {},
   "outputs": [
    {
     "data": {
      "text/plain": [
       "('horror', 0.21428571428571427)"
      ]
     },
     "execution_count": 39,
     "metadata": {},
     "output_type": "execute_result"
    }
   ],
   "source": [
    "max(categories.items(), key = lambda x : x[1])"
   ]
  },
  {
   "cell_type": "code",
   "execution_count": 40,
   "metadata": {},
   "outputs": [],
   "source": [
    "cat = max(categories.items(), key = lambda x : x[1])[0]"
   ]
  },
  {
   "cell_type": "code",
   "execution_count": 41,
   "metadata": {},
   "outputs": [
    {
     "data": {
      "text/plain": [
       "{'bhootnath', 'conjuring 2', 'evil dead', 'oculus', 'the ring', 'the ring 2'}"
      ]
     },
     "execution_count": 41,
     "metadata": {},
     "output_type": "execute_result"
    }
   ],
   "source": [
    "# Recommended Movies\n",
    "set(df[cat]) - user"
   ]
  },
  {
   "cell_type": "code",
   "execution_count": null,
   "metadata": {},
   "outputs": [],
   "source": []
  }
 ],
 "metadata": {
  "kernelspec": {
   "display_name": "Python 3 (ipykernel)",
   "language": "python",
   "name": "python3"
  },
  "language_info": {
   "codemirror_mode": {
    "name": "ipython",
    "version": 3
   },
   "file_extension": ".py",
   "mimetype": "text/x-python",
   "name": "python",
   "nbconvert_exporter": "python",
   "pygments_lexer": "ipython3",
   "version": "3.8.13"
  }
 },
 "nbformat": 4,
 "nbformat_minor": 2
}
